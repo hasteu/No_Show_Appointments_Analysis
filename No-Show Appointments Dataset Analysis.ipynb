{
 "cells": [
  {
   "cell_type": "markdown",
   "id": "ceaf6496",
   "metadata": {},
   "source": [
    "# *No-Show Appointments Dataset Analysis*\n",
    "\n",
    "## Table of Contents\n",
    "<ul>\n",
    "<li><a href=\"#intro\">Introduction</a></li>\n",
    "<li><a href=\"#wrangling\">Data Wrangling</a></li>\n",
    "<li><a href=\"#eda\">Exploratory Data Analysis</a></li>\n",
    "<li><a href=\"#conclusions\">Conclusions</a></li>\n",
    "</ul>"
   ]
  },
  {
   "cell_type": "markdown",
   "id": "9633c1db",
   "metadata": {},
   "source": [
    "<a id='intro'></a>\n",
    "## Introduction\n",
    "\n",
    "### Dataset Description\n",
    "The dataset is a collection of 110k medical appointments from Brazil. It is focused on presenting data that may be relevant to whether patients attend or miss their appointments.\n",
    "\n",
    "Dataset Table Overview:\n",
    "\n",
    "| Column Name | Description |\n",
    "| :---------- | :---------- |\n",
    "| PatientId | A unique patient identifier. |\n",
    "| AppointmentID\t| A unique appointment identifier|\n",
    "| Gender | Male of Female gender identity of the patient|\n",
    "| ScheduledDay | Datetime the appointment was set up|\n",
    "| AppointmentDay | Datetime of the appointment|\n",
    "| Age | Age in years of the patient|\n",
    "| Neighbourhood | Neighborhood location of the hospital |\n",
    "| Scholarship | Indicates whether the patient is enrolled in the Brasilian welfare program Bolsa Familia|\n",
    "| Hipertension | Indicates whether the patient suffers from hypertension|\n",
    "| Diabetes | Indicates whether the patient suffers from diabetes |\n",
    "| Alcoholism | Indicates whether the patient suffers from an addiction to alcohol|\n",
    "| Handcap | Indicates whether the patient has a handicap.|\n",
    "| SMS_received | Indicates whether one or more text messages were sent to the patient.|\n",
    "| No-show | Indicates |\n",
    "\n",
    "### Analysis Overview\n",
    "This analysis will attempt to find relevant and actionable insights that could improve the rate of appointment attendance. This is a tentative analysis and no inferential statistics or machine learning is used.\n",
    "\n",
    "**Questions to be answered:**\n",
    "* Do patients with scholarships have a better rate of attendance? *Cost might be prohibitive to some patients who would choose to forego their visit to the hospital. The rate could be affected by education, transportation means, and other factors that could negatively impact the attendance rate of scholarship holders.*\n",
    "\n",
    "\n",
    "* Does the time between scheduling and the appointment affect attendance rates? *People might be more likely to forget and loose urgency as more time passes. On the other hand, more time would allow for better planning but only to a certain extent.*\n",
    "\n",
    "\n",
    "* Do Older people see the doctor more often? *As people get older, they are more prone to develop diseases and require the assistance of a doctor. Factors such as the population size of each age group would be required for a complete analysis.*\n",
    "\n",
    "\n",
    "* Does the patient's age have an effect on their attendance rate? *Many real life factors could lead to variations in attendance by age groups. Family support, parent assistance, access to transportation, mobility, health status, severity of illness and many more variables have an effect on this outcome.*\n",
    "\n"
   ]
  },
  {
   "cell_type": "code",
   "execution_count": 70,
   "id": "45a4785d",
   "metadata": {
    "scrolled": false
   },
   "outputs": [],
   "source": [
    "#Import all necessary packages for the analysis\n",
    "import pandas as pd\n",
    "import numpy as np\n",
    "import matplotlib.pyplot as plt\n",
    "import seaborn as sns\n",
    "%matplotlib inline"
   ]
  },
  {
   "cell_type": "markdown",
   "id": "364b9881",
   "metadata": {},
   "source": [
    "<a id='wrangling'></a>\n",
    "## Data Wrangling\n",
    "### General Properties"
   ]
  },
  {
   "cell_type": "code",
   "execution_count": 71,
   "id": "dc6292d5",
   "metadata": {},
   "outputs": [
    {
     "data": {
      "text/html": [
       "<div>\n",
       "<style scoped>\n",
       "    .dataframe tbody tr th:only-of-type {\n",
       "        vertical-align: middle;\n",
       "    }\n",
       "\n",
       "    .dataframe tbody tr th {\n",
       "        vertical-align: top;\n",
       "    }\n",
       "\n",
       "    .dataframe thead th {\n",
       "        text-align: right;\n",
       "    }\n",
       "</style>\n",
       "<table border=\"1\" class=\"dataframe\">\n",
       "  <thead>\n",
       "    <tr style=\"text-align: right;\">\n",
       "      <th></th>\n",
       "      <th>PatientId</th>\n",
       "      <th>AppointmentID</th>\n",
       "      <th>Gender</th>\n",
       "      <th>ScheduledDay</th>\n",
       "      <th>AppointmentDay</th>\n",
       "      <th>Age</th>\n",
       "      <th>Neighbourhood</th>\n",
       "      <th>Scholarship</th>\n",
       "      <th>Hipertension</th>\n",
       "      <th>Diabetes</th>\n",
       "      <th>Alcoholism</th>\n",
       "      <th>Handcap</th>\n",
       "      <th>SMS_received</th>\n",
       "      <th>No-show</th>\n",
       "    </tr>\n",
       "  </thead>\n",
       "  <tbody>\n",
       "    <tr>\n",
       "      <th>0</th>\n",
       "      <td>2.987250e+13</td>\n",
       "      <td>5642903</td>\n",
       "      <td>F</td>\n",
       "      <td>2016-04-29T18:38:08Z</td>\n",
       "      <td>2016-04-29T00:00:00Z</td>\n",
       "      <td>62</td>\n",
       "      <td>JARDIM DA PENHA</td>\n",
       "      <td>0</td>\n",
       "      <td>1</td>\n",
       "      <td>0</td>\n",
       "      <td>0</td>\n",
       "      <td>0</td>\n",
       "      <td>0</td>\n",
       "      <td>No</td>\n",
       "    </tr>\n",
       "    <tr>\n",
       "      <th>1</th>\n",
       "      <td>5.589978e+14</td>\n",
       "      <td>5642503</td>\n",
       "      <td>M</td>\n",
       "      <td>2016-04-29T16:08:27Z</td>\n",
       "      <td>2016-04-29T00:00:00Z</td>\n",
       "      <td>56</td>\n",
       "      <td>JARDIM DA PENHA</td>\n",
       "      <td>0</td>\n",
       "      <td>0</td>\n",
       "      <td>0</td>\n",
       "      <td>0</td>\n",
       "      <td>0</td>\n",
       "      <td>0</td>\n",
       "      <td>No</td>\n",
       "    </tr>\n",
       "    <tr>\n",
       "      <th>2</th>\n",
       "      <td>4.262962e+12</td>\n",
       "      <td>5642549</td>\n",
       "      <td>F</td>\n",
       "      <td>2016-04-29T16:19:04Z</td>\n",
       "      <td>2016-04-29T00:00:00Z</td>\n",
       "      <td>62</td>\n",
       "      <td>MATA DA PRAIA</td>\n",
       "      <td>0</td>\n",
       "      <td>0</td>\n",
       "      <td>0</td>\n",
       "      <td>0</td>\n",
       "      <td>0</td>\n",
       "      <td>0</td>\n",
       "      <td>No</td>\n",
       "    </tr>\n",
       "    <tr>\n",
       "      <th>3</th>\n",
       "      <td>8.679512e+11</td>\n",
       "      <td>5642828</td>\n",
       "      <td>F</td>\n",
       "      <td>2016-04-29T17:29:31Z</td>\n",
       "      <td>2016-04-29T00:00:00Z</td>\n",
       "      <td>8</td>\n",
       "      <td>PONTAL DE CAMBURI</td>\n",
       "      <td>0</td>\n",
       "      <td>0</td>\n",
       "      <td>0</td>\n",
       "      <td>0</td>\n",
       "      <td>0</td>\n",
       "      <td>0</td>\n",
       "      <td>No</td>\n",
       "    </tr>\n",
       "    <tr>\n",
       "      <th>4</th>\n",
       "      <td>8.841186e+12</td>\n",
       "      <td>5642494</td>\n",
       "      <td>F</td>\n",
       "      <td>2016-04-29T16:07:23Z</td>\n",
       "      <td>2016-04-29T00:00:00Z</td>\n",
       "      <td>56</td>\n",
       "      <td>JARDIM DA PENHA</td>\n",
       "      <td>0</td>\n",
       "      <td>1</td>\n",
       "      <td>1</td>\n",
       "      <td>0</td>\n",
       "      <td>0</td>\n",
       "      <td>0</td>\n",
       "      <td>No</td>\n",
       "    </tr>\n",
       "  </tbody>\n",
       "</table>\n",
       "</div>"
      ],
      "text/plain": [
       "      PatientId  AppointmentID Gender          ScheduledDay  \\\n",
       "0  2.987250e+13        5642903      F  2016-04-29T18:38:08Z   \n",
       "1  5.589978e+14        5642503      M  2016-04-29T16:08:27Z   \n",
       "2  4.262962e+12        5642549      F  2016-04-29T16:19:04Z   \n",
       "3  8.679512e+11        5642828      F  2016-04-29T17:29:31Z   \n",
       "4  8.841186e+12        5642494      F  2016-04-29T16:07:23Z   \n",
       "\n",
       "         AppointmentDay  Age      Neighbourhood  Scholarship  Hipertension  \\\n",
       "0  2016-04-29T00:00:00Z   62    JARDIM DA PENHA            0             1   \n",
       "1  2016-04-29T00:00:00Z   56    JARDIM DA PENHA            0             0   \n",
       "2  2016-04-29T00:00:00Z   62      MATA DA PRAIA            0             0   \n",
       "3  2016-04-29T00:00:00Z    8  PONTAL DE CAMBURI            0             0   \n",
       "4  2016-04-29T00:00:00Z   56    JARDIM DA PENHA            0             1   \n",
       "\n",
       "   Diabetes  Alcoholism  Handcap  SMS_received No-show  \n",
       "0         0           0        0             0      No  \n",
       "1         0           0        0             0      No  \n",
       "2         0           0        0             0      No  \n",
       "3         0           0        0             0      No  \n",
       "4         1           0        0             0      No  "
      ]
     },
     "execution_count": 71,
     "metadata": {},
     "output_type": "execute_result"
    }
   ],
   "source": [
    "#Load the dataset and get nn overview of the data\n",
    "df = pd.read_csv('noshowappointments-kagglev2-may-2016.csv')\n",
    "df.head()"
   ]
  },
  {
   "cell_type": "code",
   "execution_count": 72,
   "id": "1ec6be90",
   "metadata": {},
   "outputs": [],
   "source": [
    "#Drop columns not necessary for this analysis\n",
    "columns_to_drop = ['Gender', 'Neighbourhood', 'Hipertension', 'Diabetes', 'Alcoholism', 'Handcap', 'SMS_received']\n",
    "df.drop(columns_to_drop, axis=1, inplace=True)"
   ]
  },
  {
   "cell_type": "code",
   "execution_count": 73,
   "id": "b67cf7d3",
   "metadata": {},
   "outputs": [
    {
     "data": {
      "text/plain": [
       "(110527, 7)"
      ]
     },
     "execution_count": 73,
     "metadata": {},
     "output_type": "execute_result"
    }
   ],
   "source": [
    "df.shape"
   ]
  },
  {
   "cell_type": "code",
   "execution_count": 74,
   "id": "ad7a6f40",
   "metadata": {},
   "outputs": [
    {
     "data": {
      "text/plain": [
       "0"
      ]
     },
     "execution_count": 74,
     "metadata": {},
     "output_type": "execute_result"
    }
   ],
   "source": [
    "#Check for duplicate appointments\n",
    "df.duplicated().sum()"
   ]
  },
  {
   "cell_type": "code",
   "execution_count": 75,
   "id": "bf186dff",
   "metadata": {},
   "outputs": [
    {
     "data": {
      "text/plain": [
       "0"
      ]
     },
     "execution_count": 75,
     "metadata": {},
     "output_type": "execute_result"
    }
   ],
   "source": [
    "#Check for missing values\n",
    "df.isnull().sum().sum()"
   ]
  },
  {
   "cell_type": "code",
   "execution_count": 76,
   "id": "0eb09293",
   "metadata": {
    "scrolled": false
   },
   "outputs": [
    {
     "name": "stdout",
     "output_type": "stream",
     "text": [
      "<class 'pandas.core.frame.DataFrame'>\n",
      "RangeIndex: 110527 entries, 0 to 110526\n",
      "Data columns (total 7 columns):\n",
      " #   Column          Non-Null Count   Dtype  \n",
      "---  ------          --------------   -----  \n",
      " 0   PatientId       110527 non-null  float64\n",
      " 1   AppointmentID   110527 non-null  int64  \n",
      " 2   ScheduledDay    110527 non-null  object \n",
      " 3   AppointmentDay  110527 non-null  object \n",
      " 4   Age             110527 non-null  int64  \n",
      " 5   Scholarship     110527 non-null  int64  \n",
      " 6   No-show         110527 non-null  object \n",
      "dtypes: float64(1), int64(3), object(3)\n",
      "memory usage: 5.9+ MB\n"
     ]
    }
   ],
   "source": [
    "#General info\n",
    "df.info()"
   ]
  },
  {
   "cell_type": "markdown",
   "id": "d8560271",
   "metadata": {},
   "source": [
    "### Data Cleaning\n",
    "\n",
    "1. Duplicates and missing values were inexistent.\n",
    "2. The `No-show` column needs to be renamed to `No_Show` and `SMS_received` to `SMS_Received` for consistency with the names of the other rows and code writeability. \n",
    "3. The datatypes of the following columns need to be changed:\n",
    "    * PatientId -> int (The patient id is supposed to be an integer) \n",
    "    * ScheduledDay -> datetime (It will allow for easier analysis and calculations)\n",
    "    * AppointmentDay -> datetime (It will allow for easier analysis and calculations)\n",
    "    * Scholarship -> boolean  (It is a True or False variable)\n",
    "    * SMS_received -> boolean  (It is a True or False variable)\n",
    "    * No-show -> boolean  (It is a True or False variable)"
   ]
  },
  {
   "cell_type": "code",
   "execution_count": 77,
   "id": "525daab1",
   "metadata": {},
   "outputs": [],
   "source": [
    "#Rename columns using the mapper parameter\n",
    "df.rename({'No-show': 'No_Show', 'SMS_received': 'SMS_Received'}, axis=1, inplace=True)"
   ]
  },
  {
   "cell_type": "code",
   "execution_count": 78,
   "id": "9bd6546e",
   "metadata": {
    "scrolled": false
   },
   "outputs": [
    {
     "data": {
      "text/plain": [
       "PatientId                       int64\n",
       "AppointmentID                   int64\n",
       "ScheduledDay      datetime64[ns, UTC]\n",
       "AppointmentDay    datetime64[ns, UTC]\n",
       "Age                             int64\n",
       "Scholarship                   boolean\n",
       "No_Show                          bool\n",
       "dtype: object"
      ]
     },
     "execution_count": 78,
     "metadata": {},
     "output_type": "execute_result"
    }
   ],
   "source": [
    "#Change Column datatypes\n",
    "df.PatientId = df.PatientId.astype('int')\n",
    "#Do not coerce the time to UTC as the data is from Brazil\n",
    "df.ScheduledDay = pd.to_datetime(df.ScheduledDay, utc=False)\n",
    "df.AppointmentDay = pd.to_datetime(df.AppointmentDay, utc=False)\n",
    "df.Scholarship = df.Scholarship.astype('boolean')\n",
    "df.No_Show.replace({'Yes': True, 'No': False}, inplace=True)\n",
    "#Check that the datatypes were correctly converted\n",
    "df.dtypes"
   ]
  },
  {
   "cell_type": "markdown",
   "id": "45ade52e",
   "metadata": {},
   "source": [
    "<a id='eda'></a>\n",
    "## Exploratory Data Analysis\n",
    "\n",
    "In this section, the questions previously laid out will be explored with visualizations as an aid. This will be a tentative analysis using charts."
   ]
  },
  {
   "cell_type": "code",
   "execution_count": 79,
   "id": "db70beae",
   "metadata": {},
   "outputs": [],
   "source": [
    "#create pandas series masks for our dependent variable No_Show that will be used with several of the questions.\n",
    "show = df.No_Show == False\n",
    "no_show = df.No_Show == True"
   ]
  },
  {
   "cell_type": "markdown",
   "id": "65186498",
   "metadata": {},
   "source": [
    "### Do patients with scholarships have a better rate of attendance?"
   ]
  },
  {
   "cell_type": "code",
   "execution_count": 80,
   "id": "46280bea",
   "metadata": {
    "scrolled": true
   },
   "outputs": [
    {
     "data": {
      "image/png": "[encoded data removed]",
      "text/plain": [
       "<Figure size 576x576 with 1 Axes>"
      ]
     },
     "metadata": {
      "needs_background": "light"
     },
     "output_type": "display_data"
    }
   ],
   "source": [
    "#create masks for scholarship holders and those without\n",
    "without_scholarship = df.Scholarship == False\n",
    "with_scholarship = df.Scholarship == True\n",
    "\n",
    "#Calculate the rates of attendance\n",
    "attendance_rate_without_scholarship = df.No_Show[without_scholarship].value_counts(normalize = True).iloc[0:1]*100\n",
    "attendance_rate_with_scholarship = df.No_Show[with_scholarship].value_counts(normalize = True).iloc[0:1]*100\n",
    "\n",
    "#bar plot over each other\n",
    "attendance_rate_without_scholarship.plot(kind='bar', alpha=0.5, color='blue', label='Without Scholarship', figsize= (8,8))\n",
    "attendance_rate_with_scholarship.plot(kind='bar', alpha=0.5, color='orange', label='With Scholarship')\n",
    "\n",
    "plt.legend();\n",
    "plt.xticks([0], ['Show']);\n",
    "plt.title('Attendance Percentage Depending On Scholarship Status')\n",
    "plt.ylabel('Attendance (%)');\n",
    "plt.ylim(70, 85);"
   ]
  },
  {
   "cell_type": "code",
   "execution_count": 81,
   "id": "59ea5a70",
   "metadata": {},
   "outputs": [
    {
     "name": "stdout",
     "output_type": "stream",
     "text": [
      "The difference in Attendance Rates between Scholarship holders and others is: -3.93%\n"
     ]
    }
   ],
   "source": [
    "#caclulate the difference in attendance rates\n",
    "attendance_difference = attendance_rate_with_scholarship.iloc[0] - attendance_rate_without_scholarship.iloc[0]\n",
    "print('The difference in Attendance Rates between Scholarship holders and others is: {}%'.format(round(attendance_difference,2)))"
   ]
  },
  {
   "cell_type": "markdown",
   "id": "6b3fa98a",
   "metadata": {},
   "source": [
    "The analysis of the data indicates that patients with scholarships have a lower rate of appointment attendance."
   ]
  },
  {
   "cell_type": "markdown",
   "id": "5cda0217",
   "metadata": {},
   "source": [
    "### Does the time between scheduling and the appointment affect attendance rates?"
   ]
  },
  {
   "cell_type": "code",
   "execution_count": 82,
   "id": "57c113c9",
   "metadata": {
    "scrolled": true
   },
   "outputs": [
    {
     "data": {
      "image/png": "[encoded data removed]",
      "text/plain": [
       "<Figure size 576x288 with 1 Axes>"
      ]
     },
     "metadata": {
      "needs_background": "light"
     },
     "output_type": "display_data"
    }
   ],
   "source": [
    "#Use the date only since the AppointmentDay has no time data (all are 00:00)\n",
    "days_between = df.AppointmentDay.dt.date - df.ScheduledDay.dt.date\n",
    "#add new column then get the integer number of days\n",
    "df['DaysBetween'] = days_between\n",
    "df.DaysBetween = df.DaysBetween.apply(lambda x: x.days)\n",
    "#some rows got negative values and were dropped\n",
    "df = df.drop(df.index[df['DaysBetween'] < 0])\n",
    "#DaysBetween has a very wide range and needs to be cut into groups for better visualizations and intuition\n",
    "bin_edges = [0, 1, 2, 3, 4, 5 , 6, 7, 14, 30, 900]\n",
    "bin_names = ['0', '1', '2', '3', '4', '5', '6', '>1w', '>2w', '>1m']\n",
    "df.DaysBetween = pd.cut(df.DaysBetween, bin_edges, labels=bin_names)\n",
    "\n",
    "df.DaysBetween[show].value_counts().sort_index().plot(kind='bar', label='Show', figsize= (8,4))\n",
    "df.DaysBetween[no_show].value_counts().sort_index().plot(kind='bar', label= 'No Show', color='red')\n",
    "\n",
    "plt.legend();\n",
    "plt.grid(True)\n",
    "plt.title('Attendance Vs Days Between Scheduling and Appointment ')\n",
    "plt.xlabel('Days');\n",
    "plt.ylabel('Attendance');"
   ]
  },
  {
   "cell_type": "code",
   "execution_count": 83,
   "id": "76f9d603",
   "metadata": {
    "scrolled": true
   },
   "outputs": [],
   "source": [
    "#Calculate the attendance rate for the day groups for more insight\n",
    "def normalize(set_1, set_2):\n",
    "    s1 = set_1[show].value_counts().sort_index()\n",
    "    s2 = set_2[no_show].value_counts().sort_index()\n",
    "    normalized = s1/(s1+s2)\n",
    "    return normalized"
   ]
  },
  {
   "cell_type": "code",
   "execution_count": 84,
   "id": "fc22c52f",
   "metadata": {},
   "outputs": [
    {
     "data": {
      "image/png": "[encoded data removed]",
      "text/plain": [
       "<Figure size 432x288 with 1 Axes>"
      ]
     },
     "metadata": {
      "needs_background": "light"
     },
     "output_type": "display_data"
    }
   ],
   "source": [
    "days_between_counts_normalized = normalize(df.DaysBetween[show], df.DaysBetween[no_show])\n",
    "days_between_counts_normalized.plot()\n",
    "\n",
    "plt.title('Attendance % Vs Days Between Scheduling and Appointment ')\n",
    "plt.xlabel('Days');\n",
    "plt.ylabel('Attendance (%)');"
   ]
  },
  {
   "cell_type": "markdown",
   "id": "540b56fb",
   "metadata": {},
   "source": [
    "The line plot clearly show an increase in patients missing their appointments as time between when the apointment was scheduled and the appointment day increases."
   ]
  },
  {
   "cell_type": "markdown",
   "id": "db1f5e53",
   "metadata": {},
   "source": [
    "### Do Older people see the doctor more often?"
   ]
  },
  {
   "cell_type": "code",
   "execution_count": 85,
   "id": "9df54aa1",
   "metadata": {
    "scrolled": true
   },
   "outputs": [
    {
     "data": {
      "image/png": "[encoded data removed]",
      "text/plain": [
       "<Figure size 864x432 with 1 Axes>"
      ]
     },
     "metadata": {
      "needs_background": "light"
     },
     "output_type": "display_data"
    }
   ],
   "source": [
    "df.Age.hist(figsize=(12,6))\n",
    "plt.title('Number of Appointments vs Age')\n",
    "plt.xlabel('Age');\n",
    "plt.ylabel('Appointments');"
   ]
  },
  {
   "cell_type": "markdown",
   "id": "9f739ebb",
   "metadata": {},
   "source": [
    "The histogram shows that young children less than 10 years old visit the doctors most. The number of patients drops until it picks up again around the age of 40 and then keeps dropping after that."
   ]
  },
  {
   "cell_type": "markdown",
   "id": "16f26d17",
   "metadata": {},
   "source": [
    "### Does age have an effect on attendance rates?\n",
    "\n",
    "The ages need to be seperated into groups:\n",
    "* 0-12 (children)\n",
    "* 12-20 (teenagers)\n",
    "* Then in decades until 80 to cover young adulthood, adulthood, and subsequent ageing phases."
   ]
  },
  {
   "cell_type": "code",
   "execution_count": 86,
   "id": "9203b385",
   "metadata": {},
   "outputs": [
    {
     "data": {
      "image/png": "[encoded data removed]",
      "text/plain": [
       "<Figure size 720x432 with 1 Axes>"
      ]
     },
     "metadata": {
      "needs_background": "light"
     },
     "output_type": "display_data"
    }
   ],
   "source": [
    "age_bins = [0,12,20,30,40,50,60,70,80]\n",
    "df.Age[show].hist(alpha=0.8, label='Show', bins=age_bins, figsize=(10,6))\n",
    "df.Age[no_show].hist(alpha=0.8, label='No Show', bins=age_bins)\n",
    "\n",
    "plt.legend();\n",
    "plt.grid(True)\n",
    "plt.title('Attendance Vs Age ')\n",
    "plt.xlabel('Age');\n",
    "plt.ylabel('Appointments');\n"
   ]
  },
  {
   "cell_type": "markdown",
   "id": "b94d247f",
   "metadata": {},
   "source": [
    "The histogram shows an increasing trend in appointment attendance rates as the age group advances. It should be noted that children have a high attendance rate compared to teens and young adults."
   ]
  },
  {
   "cell_type": "markdown",
   "id": "66e88084",
   "metadata": {},
   "source": [
    "<a id='conclusions'></a>\n",
    "## Conclusions\n",
    "\n",
    "__*Do patients with scholarships have a better rate of attendance?*__\n",
    "\n",
    "The data indicates that patients with scholarships have a lower rate of attendance. Additional research and analysis should be done before conclusions can be made. The reasons behind this statistic are not clear from this statistic and this correlation is indicative of other misalignments between the two groups. Several factors such as age, income, health status, mobility, distance from health center, transportation and many more could be leading to this outcome. This is relevant considering that this Brazilian scholarship was aimed to aid poor families who face countless factors that could interfere with their attendance.\n",
    "\n",
    "__*Does the time between scheduling and the appointment affect attendance rates?*__\n",
    "\n",
    "The trend seems to suggest that a reduction in time between scheduling and appointment date would impact attendance rates. Further data and analysis are needed to confirm this trend as many other factors could be affecting it. One such example is patients no longer feeling the need to attend their appointment as their symptoms dissipate. The nature of the disease or symptoms as well as whether they have a chronic condition could contribute to this analysis.\n",
    "\n",
    "__*Do Older people see the doctor more often?*__\n",
    "\n",
    "\n",
    "This analysis is very limited as the number of appointments was not adjusted to the total population of each age group. The analysis shows that young children attend doctors the most while the trend falls until it picks up as adults move into their 40s. This is reasonable as humans tend to develop diseases as they age. The trend then starts to decline again but death is certainly a major contributor to this decline. Other data that could help provide more insight is the nature of the visit to the doctor. A large number of the childrens' appointments could be for vaccines which for many analyses would be considered of a different a category to appointments for diseases. \n",
    "\n",
    "__*Does age have an effect on attendance rates?*__\n",
    "The data indicates that attendance rates increase along with the age of a patient. This could be due to the increase in severity of the disease. Family support, parental assistance, amobility, health status, severity of illness and many more variables have an effect on this outcome. Children have a high attendance rate which could be due to parental support and coercion. Further data on the nature of the appointment could help make better conclusions on the reasons for this correlation.\n",
    "\n",
    "### Limitations\n",
    "The data has no information on the nature of the care required. Different types of appointments would attract different levels or urgency and will thus have a great effect on the attendance rate. The appointment date column does not include the appointment's time which is important. When analysing the effect of age on total appointments, If SMS data had a date, we could make an inference on how much forgetfullness affects this outcome as we would know when the patient was last reminded. the analysis did not normalize by population for each age group which limits its significance. "
   ]
  },
  {
   "cell_type": "code",
   "execution_count": null,
   "id": "e49546b5",
   "metadata": {},
   "outputs": [],
   "source": []
  }
 ],
 "metadata": {
  "kernelspec": {
   "display_name": "Python [conda env:py39ds_env] *",
   "language": "python",
   "name": "conda-env-py39ds_env-py"
  },
  "language_info": {
   "codemirror_mode": {
    "name": "ipython",
    "version": 3
   },
   "file_extension": ".py",
   "mimetype": "text/x-python",
   "name": "python",
   "nbconvert_exporter": "python",
   "pygments_lexer": "ipython3",
   "version": "3.10.6"
  }
 },
 "nbformat": 4,
 "nbformat_minor": 5
}
